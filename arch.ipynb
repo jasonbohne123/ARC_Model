{
 "cells": [
  {
   "cell_type": "markdown",
   "metadata": {},
   "source": [
    "## ARCH and GARCH Models\n",
    "\n",
    "https://github.com/bashtage/arch Package NB"
   ]
  },
  {
   "cell_type": "code",
   "execution_count": 3,
   "metadata": {},
   "outputs": [
    {
     "name": "stdout",
     "output_type": "stream",
     "text": [
      "Collecting arch\n",
      "  Using cached arch-5.2.0-cp38-cp38-manylinux_2_17_x86_64.manylinux2014_x86_64.whl (906 kB)\n",
      "Requirement already satisfied: pandas>=1.0 in /opt/conda/lib/python3.8/site-packages (from arch) (1.1.1)\n",
      "Collecting property-cached>=1.6.4\n",
      "  Using cached property_cached-1.6.4-py2.py3-none-any.whl (7.8 kB)\n",
      "Requirement already satisfied: statsmodels>=0.11 in /opt/conda/lib/python3.8/site-packages (from arch) (0.11.1)\n",
      "Requirement already satisfied: numpy>=1.17 in /opt/conda/lib/python3.8/site-packages (from arch) (1.19.1)\n",
      "Requirement already satisfied: scipy>=1.3 in /opt/conda/lib/python3.8/site-packages (from arch) (1.5.2)\n",
      "Requirement already satisfied: pytz>=2017.2 in /opt/conda/lib/python3.8/site-packages (from pandas>=1.0->arch) (2020.1)\n",
      "Requirement already satisfied: python-dateutil>=2.7.3 in /opt/conda/lib/python3.8/site-packages (from pandas>=1.0->arch) (2.8.1)\n",
      "Requirement already satisfied: patsy>=0.5 in /opt/conda/lib/python3.8/site-packages (from statsmodels>=0.11->arch) (0.5.1)\n",
      "Requirement already satisfied: six>=1.5 in /opt/conda/lib/python3.8/site-packages (from python-dateutil>=2.7.3->pandas>=1.0->arch) (1.15.0)\n",
      "Installing collected packages: property-cached, arch\n",
      "Successfully installed arch-5.2.0 property-cached-1.6.4\n"
     ]
    }
   ],
   "source": [
    "! pip install arch\n"
   ]
  },
  {
   "cell_type": "code",
   "execution_count": 17,
   "metadata": {},
   "outputs": [],
   "source": [
    "import arch\n",
    "from arch import arch_model\n",
    "import datetime as datetime\n",
    "import matplotlib.pyplot as plt\n",
    "import numpy as np\n",
    "import pandas as pd\n",
    "import csv\n",
    "import sys\n",
    "from matplotlib.dates import DateFormatter\n",
    "from scipy.stats import invweibull\n",
    "from statsmodels.distributions.empirical_distribution import ECDF\n",
    "\n",
    "sys.path.append(\"/home/jovyan/data_warehouse/\")\n",
    "from dw_src.api.features_api import get_features_df, load_features"
   ]
  },
  {
   "cell_type": "markdown",
   "metadata": {},
   "source": [
    "### Prep Data"
   ]
  },
  {
   "cell_type": "code",
   "execution_count": 5,
   "metadata": {},
   "outputs": [
    {
     "name": "stderr",
     "output_type": "stream",
     "text": [
      "/opt/conda/lib/python3.8/site-packages/google/auth/_default.py:70: UserWarning: Your application has authenticated using end user credentials from Google Cloud SDK without a quota project. You might receive a \"quota exceeded\" or \"API not enabled\" error. We recommend you rerun `gcloud auth application-default login` and make sure a quota project is added. Or you can use service accounts instead. For more information about service accounts, see https://cloud.google.com/docs/authentication/\n",
      "  warnings.warn(_CLOUD_SDK_CREDENTIALS_WARNING)\n",
      "Query complete after 1.38s: 100%|██████████| 1/1 [00:01<00:00,  1.38s/query]\n",
      "/opt/conda/lib/python3.8/site-packages/google/cloud/bigquery/client.py:444: UserWarning: Cannot create BigQuery Storage client, the dependency google-cloud-bigquery-storage is not installed.\n",
      "  warnings.warn(\n",
      "Downloading: 100%|██████████| 17016/17016 [00:00<00:00, 19676.67rows/s]\n"
     ]
    }
   ],
   "source": [
    "# High Frequency Data\n",
    "features_to_load = [\n",
    "    \"midprice_mean\",\n",
    "    \"traded_price_mean\"\n",
    "\n",
    "]\n",
    "\n",
    "# Last 2 weeks\n",
    "end_date = datetime.datetime.now(datetime.timezone.utc)\n",
    "start_date = end_date - datetime.timedelta(days=7)\n",
    "\n",
    "# Choose buckketing\n",
    "time_agg = \"30sec\" # 1sec/5sec/10sec/30sec/60sec\n",
    "\n",
    "high_freq= load_features(\n",
    "    \"ftx\", \"BTCUSDP\", time_agg, start_date, end_date, features_to_load\n",
    ")\n",
    "high_freq.to_csv(\"1Min_BTCUSDP_March23_30.csv\")"
   ]
  },
  {
   "cell_type": "code",
   "execution_count": 6,
   "metadata": {},
   "outputs": [
    {
     "data": {
      "text/html": [
       "<div>\n",
       "<style scoped>\n",
       "    .dataframe tbody tr th:only-of-type {\n",
       "        vertical-align: middle;\n",
       "    }\n",
       "\n",
       "    .dataframe tbody tr th {\n",
       "        vertical-align: top;\n",
       "    }\n",
       "\n",
       "    .dataframe thead th {\n",
       "        text-align: right;\n",
       "    }\n",
       "</style>\n",
       "<table border=\"1\" class=\"dataframe\">\n",
       "  <thead>\n",
       "    <tr style=\"text-align: right;\">\n",
       "      <th></th>\n",
       "      <th>exchange</th>\n",
       "      <th>symbol</th>\n",
       "      <th>midprice_mean</th>\n",
       "      <th>traded_price_mean</th>\n",
       "    </tr>\n",
       "    <tr>\n",
       "      <th>timestamp</th>\n",
       "      <th></th>\n",
       "      <th></th>\n",
       "      <th></th>\n",
       "      <th></th>\n",
       "    </tr>\n",
       "  </thead>\n",
       "  <tbody>\n",
       "    <tr>\n",
       "      <th>2022-03-29 02:12:00+00:00</th>\n",
       "      <td>ftx</td>\n",
       "      <td>BTCUSDP</td>\n",
       "      <td>47528.282991</td>\n",
       "      <td>47524.719101</td>\n",
       "    </tr>\n",
       "    <tr>\n",
       "      <th>2022-03-29 02:12:30+00:00</th>\n",
       "      <td>ftx</td>\n",
       "      <td>BTCUSDP</td>\n",
       "      <td>47517.212397</td>\n",
       "      <td>47516.571429</td>\n",
       "    </tr>\n",
       "    <tr>\n",
       "      <th>2022-03-29 02:13:00+00:00</th>\n",
       "      <td>ftx</td>\n",
       "      <td>BTCUSDP</td>\n",
       "      <td>47506.402019</td>\n",
       "      <td>47503.486486</td>\n",
       "    </tr>\n",
       "    <tr>\n",
       "      <th>2022-03-29 02:13:30+00:00</th>\n",
       "      <td>ftx</td>\n",
       "      <td>BTCUSDP</td>\n",
       "      <td>47493.702036</td>\n",
       "      <td>47493.840000</td>\n",
       "    </tr>\n",
       "    <tr>\n",
       "      <th>2022-03-29 02:14:00+00:00</th>\n",
       "      <td>ftx</td>\n",
       "      <td>BTCUSDP</td>\n",
       "      <td>47507.888807</td>\n",
       "      <td>47507.825000</td>\n",
       "    </tr>\n",
       "    <tr>\n",
       "      <th>...</th>\n",
       "      <td>...</td>\n",
       "      <td>...</td>\n",
       "      <td>...</td>\n",
       "      <td>...</td>\n",
       "    </tr>\n",
       "    <tr>\n",
       "      <th>2022-04-03 23:57:30+00:00</th>\n",
       "      <td>ftx</td>\n",
       "      <td>BTCUSDP</td>\n",
       "      <td>46440.500000</td>\n",
       "      <td>46440.727273</td>\n",
       "    </tr>\n",
       "    <tr>\n",
       "      <th>2022-04-03 23:58:00+00:00</th>\n",
       "      <td>ftx</td>\n",
       "      <td>BTCUSDP</td>\n",
       "      <td>46440.500000</td>\n",
       "      <td>46440.652174</td>\n",
       "    </tr>\n",
       "    <tr>\n",
       "      <th>2022-04-03 23:58:30+00:00</th>\n",
       "      <td>ftx</td>\n",
       "      <td>BTCUSDP</td>\n",
       "      <td>46418.550837</td>\n",
       "      <td>46413.879808</td>\n",
       "    </tr>\n",
       "    <tr>\n",
       "      <th>2022-04-03 23:59:00+00:00</th>\n",
       "      <td>ftx</td>\n",
       "      <td>BTCUSDP</td>\n",
       "      <td>46411.943737</td>\n",
       "      <td>46414.076923</td>\n",
       "    </tr>\n",
       "    <tr>\n",
       "      <th>2022-04-03 23:59:30+00:00</th>\n",
       "      <td>ftx</td>\n",
       "      <td>BTCUSDP</td>\n",
       "      <td>46422.481848</td>\n",
       "      <td>46422.166667</td>\n",
       "    </tr>\n",
       "  </tbody>\n",
       "</table>\n",
       "<p>17016 rows × 4 columns</p>\n",
       "</div>"
      ],
      "text/plain": [
       "                          exchange   symbol  midprice_mean  traded_price_mean\n",
       "timestamp                                                                    \n",
       "2022-03-29 02:12:00+00:00      ftx  BTCUSDP   47528.282991       47524.719101\n",
       "2022-03-29 02:12:30+00:00      ftx  BTCUSDP   47517.212397       47516.571429\n",
       "2022-03-29 02:13:00+00:00      ftx  BTCUSDP   47506.402019       47503.486486\n",
       "2022-03-29 02:13:30+00:00      ftx  BTCUSDP   47493.702036       47493.840000\n",
       "2022-03-29 02:14:00+00:00      ftx  BTCUSDP   47507.888807       47507.825000\n",
       "...                            ...      ...            ...                ...\n",
       "2022-04-03 23:57:30+00:00      ftx  BTCUSDP   46440.500000       46440.727273\n",
       "2022-04-03 23:58:00+00:00      ftx  BTCUSDP   46440.500000       46440.652174\n",
       "2022-04-03 23:58:30+00:00      ftx  BTCUSDP   46418.550837       46413.879808\n",
       "2022-04-03 23:59:00+00:00      ftx  BTCUSDP   46411.943737       46414.076923\n",
       "2022-04-03 23:59:30+00:00      ftx  BTCUSDP   46422.481848       46422.166667\n",
       "\n",
       "[17016 rows x 4 columns]"
      ]
     },
     "execution_count": 6,
     "metadata": {},
     "output_type": "execute_result"
    }
   ],
   "source": [
    "high_freq"
   ]
  },
  {
   "cell_type": "code",
   "execution_count": 7,
   "metadata": {},
   "outputs": [
    {
     "data": {
      "text/plain": [
       "[<matplotlib.lines.Line2D at 0x7f815fa07700>]"
      ]
     },
     "execution_count": 7,
     "metadata": {},
     "output_type": "execute_result"
    },
    {
     "data": {
      "image/png": "[encoded data removed]",
      "text/plain": [
       "<Figure size 432x288 with 1 Axes>"
      ]
     },
     "metadata": {
      "needs_background": "light"
     },
     "output_type": "display_data"
    }
   ],
   "source": [
    "plt.plot(high_freq['midprice_mean'])"
   ]
  },
  {
   "cell_type": "code",
   "execution_count": 8,
   "metadata": {},
   "outputs": [
    {
     "data": {
      "text/plain": [
       "[<matplotlib.lines.Line2D at 0x7f815fa75e20>]"
      ]
     },
     "execution_count": 8,
     "metadata": {},
     "output_type": "execute_result"
    },
    {
     "data": {
      "image/png": "[encoded data removed]",
      "text/plain": [
       "<Figure size 432x288 with 1 Axes>"
      ]
     },
     "metadata": {
      "needs_background": "light"
     },
     "output_type": "display_data"
    }
   ],
   "source": [
    "high_freq['return']=100 * high_freq['midprice_mean'].pct_change()\n",
    "plt.plot(high_freq['return'].dropna(),color='orange')"
   ]
  },
  {
   "cell_type": "code",
   "execution_count": 9,
   "metadata": {},
   "outputs": [
    {
     "data": {
      "text/html": [
       "<div>\n",
       "<style scoped>\n",
       "    .dataframe tbody tr th:only-of-type {\n",
       "        vertical-align: middle;\n",
       "    }\n",
       "\n",
       "    .dataframe tbody tr th {\n",
       "        vertical-align: top;\n",
       "    }\n",
       "\n",
       "    .dataframe thead th {\n",
       "        text-align: right;\n",
       "    }\n",
       "</style>\n",
       "<table border=\"1\" class=\"dataframe\">\n",
       "  <thead>\n",
       "    <tr style=\"text-align: right;\">\n",
       "      <th></th>\n",
       "      <th>exchange</th>\n",
       "      <th>symbol</th>\n",
       "      <th>midprice_mean</th>\n",
       "      <th>traded_price_mean</th>\n",
       "      <th>return</th>\n",
       "    </tr>\n",
       "    <tr>\n",
       "      <th>timestamp</th>\n",
       "      <th></th>\n",
       "      <th></th>\n",
       "      <th></th>\n",
       "      <th></th>\n",
       "      <th></th>\n",
       "    </tr>\n",
       "  </thead>\n",
       "  <tbody>\n",
       "    <tr>\n",
       "      <th>2022-03-29 02:12:00+00:00</th>\n",
       "      <td>ftx</td>\n",
       "      <td>BTCUSDP</td>\n",
       "      <td>47528.282991</td>\n",
       "      <td>47524.719101</td>\n",
       "      <td>NaN</td>\n",
       "    </tr>\n",
       "    <tr>\n",
       "      <th>2022-03-29 02:12:30+00:00</th>\n",
       "      <td>ftx</td>\n",
       "      <td>BTCUSDP</td>\n",
       "      <td>47517.212397</td>\n",
       "      <td>47516.571429</td>\n",
       "      <td>-0.023293</td>\n",
       "    </tr>\n",
       "    <tr>\n",
       "      <th>2022-03-29 02:13:00+00:00</th>\n",
       "      <td>ftx</td>\n",
       "      <td>BTCUSDP</td>\n",
       "      <td>47506.402019</td>\n",
       "      <td>47503.486486</td>\n",
       "      <td>-0.022750</td>\n",
       "    </tr>\n",
       "    <tr>\n",
       "      <th>2022-03-29 02:13:30+00:00</th>\n",
       "      <td>ftx</td>\n",
       "      <td>BTCUSDP</td>\n",
       "      <td>47493.702036</td>\n",
       "      <td>47493.840000</td>\n",
       "      <td>-0.026733</td>\n",
       "    </tr>\n",
       "    <tr>\n",
       "      <th>2022-03-29 02:14:00+00:00</th>\n",
       "      <td>ftx</td>\n",
       "      <td>BTCUSDP</td>\n",
       "      <td>47507.888807</td>\n",
       "      <td>47507.825000</td>\n",
       "      <td>0.029871</td>\n",
       "    </tr>\n",
       "    <tr>\n",
       "      <th>...</th>\n",
       "      <td>...</td>\n",
       "      <td>...</td>\n",
       "      <td>...</td>\n",
       "      <td>...</td>\n",
       "      <td>...</td>\n",
       "    </tr>\n",
       "    <tr>\n",
       "      <th>2022-04-03 23:57:30+00:00</th>\n",
       "      <td>ftx</td>\n",
       "      <td>BTCUSDP</td>\n",
       "      <td>46440.500000</td>\n",
       "      <td>46440.727273</td>\n",
       "      <td>-0.002466</td>\n",
       "    </tr>\n",
       "    <tr>\n",
       "      <th>2022-04-03 23:58:00+00:00</th>\n",
       "      <td>ftx</td>\n",
       "      <td>BTCUSDP</td>\n",
       "      <td>46440.500000</td>\n",
       "      <td>46440.652174</td>\n",
       "      <td>0.000000</td>\n",
       "    </tr>\n",
       "    <tr>\n",
       "      <th>2022-04-03 23:58:30+00:00</th>\n",
       "      <td>ftx</td>\n",
       "      <td>BTCUSDP</td>\n",
       "      <td>46418.550837</td>\n",
       "      <td>46413.879808</td>\n",
       "      <td>-0.047263</td>\n",
       "    </tr>\n",
       "    <tr>\n",
       "      <th>2022-04-03 23:59:00+00:00</th>\n",
       "      <td>ftx</td>\n",
       "      <td>BTCUSDP</td>\n",
       "      <td>46411.943737</td>\n",
       "      <td>46414.076923</td>\n",
       "      <td>-0.014234</td>\n",
       "    </tr>\n",
       "    <tr>\n",
       "      <th>2022-04-03 23:59:30+00:00</th>\n",
       "      <td>ftx</td>\n",
       "      <td>BTCUSDP</td>\n",
       "      <td>46422.481848</td>\n",
       "      <td>46422.166667</td>\n",
       "      <td>0.022706</td>\n",
       "    </tr>\n",
       "  </tbody>\n",
       "</table>\n",
       "<p>17016 rows × 5 columns</p>\n",
       "</div>"
      ],
      "text/plain": [
       "                          exchange   symbol  midprice_mean  traded_price_mean  \\\n",
       "timestamp                                                                       \n",
       "2022-03-29 02:12:00+00:00      ftx  BTCUSDP   47528.282991       47524.719101   \n",
       "2022-03-29 02:12:30+00:00      ftx  BTCUSDP   47517.212397       47516.571429   \n",
       "2022-03-29 02:13:00+00:00      ftx  BTCUSDP   47506.402019       47503.486486   \n",
       "2022-03-29 02:13:30+00:00      ftx  BTCUSDP   47493.702036       47493.840000   \n",
       "2022-03-29 02:14:00+00:00      ftx  BTCUSDP   47507.888807       47507.825000   \n",
       "...                            ...      ...            ...                ...   \n",
       "2022-04-03 23:57:30+00:00      ftx  BTCUSDP   46440.500000       46440.727273   \n",
       "2022-04-03 23:58:00+00:00      ftx  BTCUSDP   46440.500000       46440.652174   \n",
       "2022-04-03 23:58:30+00:00      ftx  BTCUSDP   46418.550837       46413.879808   \n",
       "2022-04-03 23:59:00+00:00      ftx  BTCUSDP   46411.943737       46414.076923   \n",
       "2022-04-03 23:59:30+00:00      ftx  BTCUSDP   46422.481848       46422.166667   \n",
       "\n",
       "                             return  \n",
       "timestamp                            \n",
       "2022-03-29 02:12:00+00:00       NaN  \n",
       "2022-03-29 02:12:30+00:00 -0.023293  \n",
       "2022-03-29 02:13:00+00:00 -0.022750  \n",
       "2022-03-29 02:13:30+00:00 -0.026733  \n",
       "2022-03-29 02:14:00+00:00  0.029871  \n",
       "...                             ...  \n",
       "2022-04-03 23:57:30+00:00 -0.002466  \n",
       "2022-04-03 23:58:00+00:00  0.000000  \n",
       "2022-04-03 23:58:30+00:00 -0.047263  \n",
       "2022-04-03 23:59:00+00:00 -0.014234  \n",
       "2022-04-03 23:59:30+00:00  0.022706  \n",
       "\n",
       "[17016 rows x 5 columns]"
      ]
     },
     "execution_count": 9,
     "metadata": {},
     "output_type": "execute_result"
    }
   ],
   "source": [
    "high_freq"
   ]
  },
  {
   "cell_type": "code",
   "execution_count": 10,
   "metadata": {},
   "outputs": [],
   "source": [
    "def generate_max(series): \n",
    "    '''\n",
    "    Here is largest  loss for  last 5 minute returns (1 min increments) excluding nan values \n",
    "    \n",
    "    '''\n",
    "    max_values=np.array([])\n",
    "    for i,x in enumerate(series.values):\n",
    "        if np.isnan(series.values[i]):\n",
    "            max_values=np.append(max_values,0)\n",
    "            j=i\n",
    "            continue\n",
    "            \n",
    "        max_values=np.append(max_values,min(series.values[max(j+1,i-9):i+1]))\n",
    " \n",
    "    max_series=pd.Series(max_values,index=series.index)\n",
    "    return -max_series # view losses as positive"
   ]
  },
  {
   "cell_type": "code",
   "execution_count": 11,
   "metadata": {},
   "outputs": [],
   "source": [
    "high_freq['max_loss']=max_series=generate_max(high_freq['return'])"
   ]
  },
  {
   "cell_type": "code",
   "execution_count": 12,
   "metadata": {},
   "outputs": [
    {
     "data": {
      "image/png": "[encoded data removed]",
      "text/plain": [
       "<Figure size 432x288 with 2 Axes>"
      ]
     },
     "metadata": {
      "needs_background": "light"
     },
     "output_type": "display_data"
    }
   ],
   "source": [
    "fig,ax = plt.subplots(2,1)\n",
    "\n",
    "\n",
    "ax[1].plot(high_freq['max_loss'], label='Max Loss')\n",
    "ax[0].plot(-high_freq['return'], label='Loss Time Series',color='orange') # flip returns to view\n",
    "ax[0].legend()\n",
    "ax[1].legend()\n",
    "ax[0].xaxis.set_major_formatter(DateFormatter(\"%D\"))\n",
    "ax[1].xaxis.set_major_formatter(DateFormatter(\"%D\"))"
   ]
  },
  {
   "cell_type": "code",
   "execution_count": 13,
   "metadata": {},
   "outputs": [
    {
     "data": {
      "text/html": [
       "<div>\n",
       "<style scoped>\n",
       "    .dataframe tbody tr th:only-of-type {\n",
       "        vertical-align: middle;\n",
       "    }\n",
       "\n",
       "    .dataframe tbody tr th {\n",
       "        vertical-align: top;\n",
       "    }\n",
       "\n",
       "    .dataframe thead th {\n",
       "        text-align: right;\n",
       "    }\n",
       "</style>\n",
       "<table border=\"1\" class=\"dataframe\">\n",
       "  <thead>\n",
       "    <tr style=\"text-align: right;\">\n",
       "      <th></th>\n",
       "      <th>exchange</th>\n",
       "      <th>symbol</th>\n",
       "      <th>midprice_mean</th>\n",
       "      <th>traded_price_mean</th>\n",
       "      <th>return</th>\n",
       "      <th>max_loss</th>\n",
       "    </tr>\n",
       "    <tr>\n",
       "      <th>timestamp</th>\n",
       "      <th></th>\n",
       "      <th></th>\n",
       "      <th></th>\n",
       "      <th></th>\n",
       "      <th></th>\n",
       "      <th></th>\n",
       "    </tr>\n",
       "  </thead>\n",
       "  <tbody>\n",
       "    <tr>\n",
       "      <th>2022-03-29 02:12:00+00:00</th>\n",
       "      <td>ftx</td>\n",
       "      <td>BTCUSDP</td>\n",
       "      <td>47528.282991</td>\n",
       "      <td>47524.719101</td>\n",
       "      <td>NaN</td>\n",
       "      <td>-0.000000</td>\n",
       "    </tr>\n",
       "    <tr>\n",
       "      <th>2022-03-29 02:12:30+00:00</th>\n",
       "      <td>ftx</td>\n",
       "      <td>BTCUSDP</td>\n",
       "      <td>47517.212397</td>\n",
       "      <td>47516.571429</td>\n",
       "      <td>-0.023293</td>\n",
       "      <td>0.023293</td>\n",
       "    </tr>\n",
       "    <tr>\n",
       "      <th>2022-03-29 02:13:00+00:00</th>\n",
       "      <td>ftx</td>\n",
       "      <td>BTCUSDP</td>\n",
       "      <td>47506.402019</td>\n",
       "      <td>47503.486486</td>\n",
       "      <td>-0.022750</td>\n",
       "      <td>0.023293</td>\n",
       "    </tr>\n",
       "    <tr>\n",
       "      <th>2022-03-29 02:13:30+00:00</th>\n",
       "      <td>ftx</td>\n",
       "      <td>BTCUSDP</td>\n",
       "      <td>47493.702036</td>\n",
       "      <td>47493.840000</td>\n",
       "      <td>-0.026733</td>\n",
       "      <td>0.026733</td>\n",
       "    </tr>\n",
       "    <tr>\n",
       "      <th>2022-03-29 02:14:00+00:00</th>\n",
       "      <td>ftx</td>\n",
       "      <td>BTCUSDP</td>\n",
       "      <td>47507.888807</td>\n",
       "      <td>47507.825000</td>\n",
       "      <td>0.029871</td>\n",
       "      <td>0.026733</td>\n",
       "    </tr>\n",
       "    <tr>\n",
       "      <th>...</th>\n",
       "      <td>...</td>\n",
       "      <td>...</td>\n",
       "      <td>...</td>\n",
       "      <td>...</td>\n",
       "      <td>...</td>\n",
       "      <td>...</td>\n",
       "    </tr>\n",
       "    <tr>\n",
       "      <th>2022-04-03 23:57:30+00:00</th>\n",
       "      <td>ftx</td>\n",
       "      <td>BTCUSDP</td>\n",
       "      <td>46440.500000</td>\n",
       "      <td>46440.727273</td>\n",
       "      <td>-0.002466</td>\n",
       "      <td>0.033172</td>\n",
       "    </tr>\n",
       "    <tr>\n",
       "      <th>2022-04-03 23:58:00+00:00</th>\n",
       "      <td>ftx</td>\n",
       "      <td>BTCUSDP</td>\n",
       "      <td>46440.500000</td>\n",
       "      <td>46440.652174</td>\n",
       "      <td>0.000000</td>\n",
       "      <td>0.033172</td>\n",
       "    </tr>\n",
       "    <tr>\n",
       "      <th>2022-04-03 23:58:30+00:00</th>\n",
       "      <td>ftx</td>\n",
       "      <td>BTCUSDP</td>\n",
       "      <td>46418.550837</td>\n",
       "      <td>46413.879808</td>\n",
       "      <td>-0.047263</td>\n",
       "      <td>0.047263</td>\n",
       "    </tr>\n",
       "    <tr>\n",
       "      <th>2022-04-03 23:59:00+00:00</th>\n",
       "      <td>ftx</td>\n",
       "      <td>BTCUSDP</td>\n",
       "      <td>46411.943737</td>\n",
       "      <td>46414.076923</td>\n",
       "      <td>-0.014234</td>\n",
       "      <td>0.047263</td>\n",
       "    </tr>\n",
       "    <tr>\n",
       "      <th>2022-04-03 23:59:30+00:00</th>\n",
       "      <td>ftx</td>\n",
       "      <td>BTCUSDP</td>\n",
       "      <td>46422.481848</td>\n",
       "      <td>46422.166667</td>\n",
       "      <td>0.022706</td>\n",
       "      <td>0.047263</td>\n",
       "    </tr>\n",
       "  </tbody>\n",
       "</table>\n",
       "<p>17016 rows × 6 columns</p>\n",
       "</div>"
      ],
      "text/plain": [
       "                          exchange   symbol  midprice_mean  traded_price_mean  \\\n",
       "timestamp                                                                       \n",
       "2022-03-29 02:12:00+00:00      ftx  BTCUSDP   47528.282991       47524.719101   \n",
       "2022-03-29 02:12:30+00:00      ftx  BTCUSDP   47517.212397       47516.571429   \n",
       "2022-03-29 02:13:00+00:00      ftx  BTCUSDP   47506.402019       47503.486486   \n",
       "2022-03-29 02:13:30+00:00      ftx  BTCUSDP   47493.702036       47493.840000   \n",
       "2022-03-29 02:14:00+00:00      ftx  BTCUSDP   47507.888807       47507.825000   \n",
       "...                            ...      ...            ...                ...   \n",
       "2022-04-03 23:57:30+00:00      ftx  BTCUSDP   46440.500000       46440.727273   \n",
       "2022-04-03 23:58:00+00:00      ftx  BTCUSDP   46440.500000       46440.652174   \n",
       "2022-04-03 23:58:30+00:00      ftx  BTCUSDP   46418.550837       46413.879808   \n",
       "2022-04-03 23:59:00+00:00      ftx  BTCUSDP   46411.943737       46414.076923   \n",
       "2022-04-03 23:59:30+00:00      ftx  BTCUSDP   46422.481848       46422.166667   \n",
       "\n",
       "                             return  max_loss  \n",
       "timestamp                                      \n",
       "2022-03-29 02:12:00+00:00       NaN -0.000000  \n",
       "2022-03-29 02:12:30+00:00 -0.023293  0.023293  \n",
       "2022-03-29 02:13:00+00:00 -0.022750  0.023293  \n",
       "2022-03-29 02:13:30+00:00 -0.026733  0.026733  \n",
       "2022-03-29 02:14:00+00:00  0.029871  0.026733  \n",
       "...                             ...       ...  \n",
       "2022-04-03 23:57:30+00:00 -0.002466  0.033172  \n",
       "2022-04-03 23:58:00+00:00  0.000000  0.033172  \n",
       "2022-04-03 23:58:30+00:00 -0.047263  0.047263  \n",
       "2022-04-03 23:59:00+00:00 -0.014234  0.047263  \n",
       "2022-04-03 23:59:30+00:00  0.022706  0.047263  \n",
       "\n",
       "[17016 rows x 6 columns]"
      ]
     },
     "execution_count": 13,
     "metadata": {},
     "output_type": "execute_result"
    }
   ],
   "source": [
    "high_freq"
   ]
  },
  {
   "cell_type": "markdown",
   "metadata": {},
   "source": [
    "## Fitting a Frechet / Inverse Weibull Dist"
   ]
  },
  {
   "cell_type": "code",
   "execution_count": 32,
   "metadata": {},
   "outputs": [
    {
     "name": "stderr",
     "output_type": "stream",
     "text": [
      "/opt/conda/lib/python3.8/site-packages/scipy/stats/_distn_infrastructure.py:2429: RuntimeWarning: invalid value encountered in double_scalars\n",
      "  Lhat = muhat - Shat*mu\n"
     ]
    },
    {
     "name": "stdout",
     "output_type": "stream",
     "text": [
      "-0.08420093710731669 0.11709300776429453 5.1226420608039955\n"
     ]
    }
   ],
   "source": [
    "\n",
    "shape,loc,scale=invweibull.fit(high_freq['max_loss'].values)\n",
    "print(loc,scale,shape)"
   ]
  },
  {
   "cell_type": "code",
   "execution_count": 28,
   "metadata": {},
   "outputs": [
    {
     "name": "stderr",
     "output_type": "stream",
     "text": [
      "No handles with labels found to put in legend.\n"
     ]
    },
    {
     "data": {
      "image/png": "[encoded data removed]",
      "text/plain": [
       "<Figure size 432x288 with 1 Axes>"
      ]
     },
     "metadata": {
      "needs_background": "light"
     },
     "output_type": "display_data"
    }
   ],
   "source": [
    "r = invweibull.rvs(shape,loc=loc,scale=scale, size=1000)\n",
    "plt.hist(r, density=True, histtype='stepfilled', alpha=0.2)\n",
    "plt.legend(loc='best', frameon=False)\n",
    "plt.show()"
   ]
  },
  {
   "cell_type": "markdown",
   "metadata": {},
   "source": [
    "## Empirical Data"
   ]
  },
  {
   "cell_type": "code",
   "execution_count": 27,
   "metadata": {},
   "outputs": [
    {
     "name": "stderr",
     "output_type": "stream",
     "text": [
      "No handles with labels found to put in legend.\n"
     ]
    },
    {
     "data": {
      "image/png": "[encoded data removed]",
      "text/plain": [
       "<Figure size 432x288 with 1 Axes>"
      ]
     },
     "metadata": {
      "needs_background": "light"
     },
     "output_type": "display_data"
    }
   ],
   "source": [
    "plt.hist(high_freq['max_loss'], density=True, histtype='stepfilled', alpha=0.2)\n",
    "plt.legend(loc='best', frameon=False)\n",
    "plt.show()"
   ]
  },
  {
   "cell_type": "code",
   "execution_count": 29,
   "metadata": {},
   "outputs": [
    {
     "data": {
      "text/plain": [
       "[<matplotlib.lines.Line2D at 0x7f813cf65c10>]"
      ]
     },
     "execution_count": 29,
     "metadata": {},
     "output_type": "execute_result"
    },
    {
     "data": {
      "image/png": "[encoded data removed]",
      "text/plain": [
       "<Figure size 432x288 with 1 Axes>"
      ]
     },
     "metadata": {
      "needs_background": "light"
     },
     "output_type": "display_data"
    }
   ],
   "source": [
    "### Comparing Static distributions\n",
    "ecdf=ECDF(high_freq['max_loss'])\n",
    "plt.plot(ecdf.x,ecdf.y)\n",
    "\n"
   ]
  },
  {
   "cell_type": "code",
   "execution_count": 151,
   "metadata": {},
   "outputs": [
    {
     "name": "stdout",
     "output_type": "stream",
     "text": [
      "                     AR - Constant Variance Model Results                     \n",
      "==============================================================================\n",
      "Dep. Variable:               max_loss   R-squared:                       0.869\n",
      "Mean Model:                        AR   Adj. R-squared:                  0.869\n",
      "Vol Model:          Constant Variance   Log-Likelihood:               -73762.9\n",
      "Distribution:                  Normal   AIC:                           147532.\n",
      "Method:            Maximum Likelihood   BIC:                           147555.\n",
      "                                        No. Observations:                17933\n",
      "Date:                Sat, Apr 02 2022   Df Residuals:                    17931\n",
      "Time:                        18:36:57   Df Model:                            2\n",
      "                                Mean Model                               \n",
      "=========================================================================\n",
      "                  coef    std err          t      P>|t|  95.0% Conf. Int.\n",
      "-------------------------------------------------------------------------\n",
      "Const           3.4193      0.367      9.306  1.333e-20 [  2.699,  4.139]\n",
      "max_loss[1]     0.9322  8.142e-03    114.500      0.000 [  0.916,  0.948]\n",
      "                              Volatility Model                              \n",
      "============================================================================\n",
      "                 coef    std err          t      P>|t|      95.0% Conf. Int.\n",
      "----------------------------------------------------------------------------\n",
      "sigma2       218.9011     16.548     13.229  6.005e-40 [1.865e+02,2.513e+02]\n",
      "============================================================================\n",
      "\n",
      "Covariance estimator: White's Heteroskedasticity Consistent Estimator\n"
     ]
    }
   ],
   "source": [
    "from arch.univariate import ARX # autoregressive model on max loss returns, 1 3, 12 lags\n",
    "\n",
    "ar = ARX( 1000*high_freq['max_loss'], lags=1)\n",
    "print(ar.fit().summary())"
   ]
  },
  {
   "cell_type": "code",
   "execution_count": 146,
   "metadata": {},
   "outputs": [
    {
     "data": {
      "image/png": "[encoded data removed]",
      "text/plain": [
       "<Figure size 432x288 with 2 Axes>"
      ]
     },
     "metadata": {
      "needs_background": "light"
     },
     "output_type": "display_data"
    }
   ],
   "source": [
    "fig = ar.fit().plot()"
   ]
  },
  {
   "cell_type": "code",
   "execution_count": 147,
   "metadata": {},
   "outputs": [
    {
     "name": "stdout",
     "output_type": "stream",
     "text": [
      "Iteration:      1,   Func. Count:      9,   Neg. LLF: 2182809990.6179094\n",
      "Iteration:      2,   Func. Count:     26,   Neg. LLF: 652011073.5563443\n",
      "Iteration:      3,   Func. Count:     40,   Neg. LLF: 66356567.60528902\n",
      "Iteration:      4,   Func. Count:     52,   Neg. LLF: 1738529.0857109618\n",
      "Iteration:      5,   Func. Count:     62,   Neg. LLF: 119106.84265461483\n",
      "Iteration:      6,   Func. Count:     72,   Neg. LLF: 76231.54004578211\n",
      "Iteration:      7,   Func. Count:     83,   Neg. LLF: 72097.34540116308\n",
      "Iteration:      8,   Func. Count:     92,   Neg. LLF: 92953.496173722\n",
      "Iteration:      9,   Func. Count:    101,   Neg. LLF: 75401.52679994421\n",
      "Iteration:     10,   Func. Count:    110,   Neg. LLF: 94516.16675098933\n",
      "Iteration:     11,   Func. Count:    119,   Neg. LLF: 72080.37099708157\n",
      "Iteration:     12,   Func. Count:    128,   Neg. LLF: 71946.67216121213\n",
      "Iteration:     13,   Func. Count:    137,   Neg. LLF: 71835.17502648251\n",
      "Iteration:     14,   Func. Count:    146,   Neg. LLF: 71769.99886260094\n",
      "Iteration:     15,   Func. Count:    154,   Neg. LLF: 71769.1615181346\n",
      "Iteration:     16,   Func. Count:    162,   Neg. LLF: 71768.83891002214\n",
      "Iteration:     17,   Func. Count:    170,   Neg. LLF: 71768.70871930354\n",
      "Iteration:     18,   Func. Count:    178,   Neg. LLF: 71768.70780505438\n",
      "Iteration:     19,   Func. Count:    186,   Neg. LLF: 71768.7077235443\n",
      "Iteration:     20,   Func. Count:    194,   Neg. LLF: 71768.70770018765\n",
      "Iteration:     21,   Func. Count:    201,   Neg. LLF: 71768.70770017947\n",
      "Optimization terminated successfully    (Exit mode 0)\n",
      "            Current function value: 71768.70770018765\n",
      "            Iterations: 21\n",
      "            Function evaluations: 201\n",
      "            Gradient evaluations: 21\n",
      "                           AR - GARCH Model Results                           \n",
      "==============================================================================\n",
      "Dep. Variable:               max_loss   R-squared:                       0.866\n",
      "Mean Model:                        AR   Adj. R-squared:                  0.866\n",
      "Vol Model:                      GARCH   Log-Likelihood:               -71768.7\n",
      "Distribution:                  Normal   AIC:                           143551.\n",
      "Method:            Maximum Likelihood   BIC:                           143606.\n",
      "                                        No. Observations:                17922\n",
      "Date:                Sat, Apr 02 2022   Df Residuals:                    17918\n",
      "Time:                        18:33:11   Df Model:                            4\n",
      "                                   Mean Model                                   \n",
      "================================================================================\n",
      "                   coef    std err          t      P>|t|        95.0% Conf. Int.\n",
      "--------------------------------------------------------------------------------\n",
      "Const            4.2216      0.745      5.663  1.487e-08       [  2.761,  5.683]\n",
      "max_loss[1]      0.9256  2.193e-02     42.208      0.000       [  0.883,  0.969]\n",
      "max_loss[3]     -0.0639  1.084e-02     -5.893  3.781e-09 [-8.513e-02,-4.264e-02]\n",
      "max_loss[12]     0.0279  4.456e-03      6.252  4.061e-10   [1.913e-02,3.659e-02]\n",
      "                              Volatility Model                             \n",
      "===========================================================================\n",
      "                 coef    std err          t      P>|t|     95.0% Conf. Int.\n",
      "---------------------------------------------------------------------------\n",
      "omega          8.6829      5.932      1.464      0.143    [ -2.944, 20.310]\n",
      "alpha[1]       0.0541  3.223e-02      1.677  9.351e-02 [-9.116e-03,  0.117]\n",
      "beta[1]        0.9107  4.786e-02     19.030  9.685e-81    [  0.817,  1.005]\n",
      "===========================================================================\n",
      "\n",
      "Covariance estimator: robust\n"
     ]
    }
   ],
   "source": [
    "from arch.univariate import GARCH\n",
    "ar.volatility = GARCH()\n",
    "res = ar.fit(update_freq=0, disp='off')\n",
    "print(ar.fit().summary())"
   ]
  },
  {
   "cell_type": "code",
   "execution_count": 149,
   "metadata": {},
   "outputs": [
    {
     "data": {
      "image/png": "[encoded data removed]",
      "text/plain": [
       "<Figure size 432x288 with 2 Axes>"
      ]
     },
     "metadata": {
      "needs_background": "light"
     },
     "output_type": "display_data"
    }
   ],
   "source": [
    "fig = res.plot()"
   ]
  },
  {
   "cell_type": "markdown",
   "metadata": {},
   "source": [
    "### Relation to Paper\n",
    "\n",
    "- We need time series models for both the shape and scale parameters, location is constant mean\n",
    "- Univariate Autoregressive model\n",
    "    - Need to get volatility Process and X Regressors process\n",
    "    "
   ]
  },
  {
   "cell_type": "code",
   "execution_count": null,
   "metadata": {},
   "outputs": [],
   "source": [
    "arch.univariate.ARX(y=None, x=None, lags=None, constant=True, hold_back=None, volatility=None, distribution=None, rescale=None)"
   ]
  },
  {
   "cell_type": "code",
   "execution_count": null,
   "metadata": {},
   "outputs": [],
   "source": []
  }
 ],
 "metadata": {
  "kernelspec": {
   "display_name": "Python 3",
   "language": "python",
   "name": "python3"
  },
  "language_info": {
   "codemirror_mode": {
    "name": "ipython",
    "version": 3
   },
   "file_extension": ".py",
   "mimetype": "text/x-python",
   "name": "python",
   "nbconvert_exporter": "python",
   "pygments_lexer": "ipython3",
   "version": "3.8.5"
  }
 },
 "nbformat": 4,
 "nbformat_minor": 4
}
