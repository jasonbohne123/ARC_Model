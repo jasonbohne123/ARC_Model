{
 "cells": [
  {
   "cell_type": "markdown",
   "metadata": {},
   "source": [
    "## ARCH and GARCH Models\n",
    "\n",
    "https://github.com/bashtage/arch Package NB"
   ]
  },
  {
   "cell_type": "code",
   "execution_count": 1,
   "metadata": {},
   "outputs": [
    {
     "name": "stdout",
     "output_type": "stream",
     "text": [
      "Requirement already satisfied: arch in /opt/conda/lib/python3.8/site-packages (5.1.0)\n",
      "Requirement already satisfied: property-cached>=1.6.4 in /opt/conda/lib/python3.8/site-packages (from arch) (1.6.4)\n",
      "Requirement already satisfied: pandas>=1.0 in /opt/conda/lib/python3.8/site-packages (from arch) (1.1.1)\n",
      "Requirement already satisfied: statsmodels>=0.11 in /opt/conda/lib/python3.8/site-packages (from arch) (0.11.1)\n",
      "Requirement already satisfied: scipy>=1.3 in /opt/conda/lib/python3.8/site-packages (from arch) (1.7.3)\n",
      "Requirement already satisfied: numpy>=1.17 in /opt/conda/lib/python3.8/site-packages (from arch) (1.19.1)\n",
      "Requirement already satisfied: pytz>=2017.2 in /opt/conda/lib/python3.8/site-packages (from pandas>=1.0->arch) (2020.1)\n",
      "Requirement already satisfied: python-dateutil>=2.7.3 in /opt/conda/lib/python3.8/site-packages (from pandas>=1.0->arch) (2.8.1)\n",
      "Requirement already satisfied: patsy>=0.5 in /opt/conda/lib/python3.8/site-packages (from statsmodels>=0.11->arch) (0.5.1)\n",
      "Requirement already satisfied: six>=1.5 in /opt/conda/lib/python3.8/site-packages (from python-dateutil>=2.7.3->pandas>=1.0->arch) (1.15.0)\n"
     ]
    }
   ],
   "source": [
    "! pip install arch\n"
   ]
  },
  {
   "cell_type": "code",
   "execution_count": null,
   "metadata": {},
   "outputs": [],
   "source": [
    "import arch\n",
    "from arch import arch_model\n",
    "import datetime as datetime\n",
    "import matplotlib.pyplot as plt\n",
    "import numpy as np\n",
    "import pandas as pd\n",
    "import csv\n",
    "import sys\n",
    "\n",
    "sys.path.append(\"/home/jovyan/data_warehouse/\")\n",
    "from dw_src.api.features_api import get_features_df, load_features"
   ]
  },
  {
   "cell_type": "markdown",
   "metadata": {},
   "source": [
    "### Prep Data"
   ]
  },
  {
   "cell_type": "code",
   "execution_count": null,
   "metadata": {},
   "outputs": [],
   "source": [
    "# High Frequency Data\n",
    "features_to_load = [\n",
    "    \"midprice_mean\",\n",
    "    \"traded_price_mean\"\n",
    "\n",
    "]\n",
    "\n",
    "# Last 2 weeks\n",
    "end_date = datetime.datetime.now(datetime.timezone.utc)\n",
    "start_date = end_date - datetime.timedelta(days=7)\n",
    "\n",
    "# Choose buckketing\n",
    "time_agg = \"60sec\" # 1sec/5sec/10sec/30sec/60sec\n",
    "\n",
    "high_freq= load_features(\n",
    "    \"ftx\", \"BTCUSDP\", time_agg, start_date, end_date, features_to_load\n",
    ")\n",
    "high_freq.to_csv(\"1Min_BTCUSDP_March23_30.csv\")"
   ]
  },
  {
   "cell_type": "code",
   "execution_count": 72,
   "metadata": {},
   "outputs": [
    {
     "data": {
      "text/html": [
       "<div>\n",
       "<style scoped>\n",
       "    .dataframe tbody tr th:only-of-type {\n",
       "        vertical-align: middle;\n",
       "    }\n",
       "\n",
       "    .dataframe tbody tr th {\n",
       "        vertical-align: top;\n",
       "    }\n",
       "\n",
       "    .dataframe thead th {\n",
       "        text-align: right;\n",
       "    }\n",
       "</style>\n",
       "<table border=\"1\" class=\"dataframe\">\n",
       "  <thead>\n",
       "    <tr style=\"text-align: right;\">\n",
       "      <th></th>\n",
       "      <th>exchange</th>\n",
       "      <th>symbol</th>\n",
       "      <th>midprice_mean</th>\n",
       "      <th>traded_price_mean</th>\n",
       "      <th>Rolling</th>\n",
       "    </tr>\n",
       "    <tr>\n",
       "      <th>timestamp</th>\n",
       "      <th></th>\n",
       "      <th></th>\n",
       "      <th></th>\n",
       "      <th></th>\n",
       "      <th></th>\n",
       "    </tr>\n",
       "  </thead>\n",
       "  <tbody>\n",
       "    <tr>\n",
       "      <th>2022-03-23 20:37:00+00:00</th>\n",
       "      <td>ftx</td>\n",
       "      <td>BTCUSDP</td>\n",
       "      <td>42359.500000</td>\n",
       "      <td>42359.700000</td>\n",
       "      <td>NaN</td>\n",
       "    </tr>\n",
       "    <tr>\n",
       "      <th>2022-03-23 20:38:00+00:00</th>\n",
       "      <td>ftx</td>\n",
       "      <td>BTCUSDP</td>\n",
       "      <td>42352.869240</td>\n",
       "      <td>42351.710744</td>\n",
       "      <td>NaN</td>\n",
       "    </tr>\n",
       "    <tr>\n",
       "      <th>2022-03-23 20:39:00+00:00</th>\n",
       "      <td>ftx</td>\n",
       "      <td>BTCUSDP</td>\n",
       "      <td>42349.934738</td>\n",
       "      <td>42343.051282</td>\n",
       "      <td>NaN</td>\n",
       "    </tr>\n",
       "    <tr>\n",
       "      <th>2022-03-23 20:40:00+00:00</th>\n",
       "      <td>ftx</td>\n",
       "      <td>BTCUSDP</td>\n",
       "      <td>42375.531270</td>\n",
       "      <td>42372.927536</td>\n",
       "      <td>NaN</td>\n",
       "    </tr>\n",
       "    <tr>\n",
       "      <th>2022-03-23 20:41:00+00:00</th>\n",
       "      <td>ftx</td>\n",
       "      <td>BTCUSDP</td>\n",
       "      <td>42380.215871</td>\n",
       "      <td>42381.361702</td>\n",
       "      <td>NaN</td>\n",
       "    </tr>\n",
       "    <tr>\n",
       "      <th>...</th>\n",
       "      <td>...</td>\n",
       "      <td>...</td>\n",
       "      <td>...</td>\n",
       "      <td>...</td>\n",
       "      <td>...</td>\n",
       "    </tr>\n",
       "    <tr>\n",
       "      <th>2022-03-29 23:55:00+00:00</th>\n",
       "      <td>ftx</td>\n",
       "      <td>BTCUSDP</td>\n",
       "      <td>47509.069554</td>\n",
       "      <td>47507.727811</td>\n",
       "      <td>47512.502548</td>\n",
       "    </tr>\n",
       "    <tr>\n",
       "      <th>2022-03-29 23:56:00+00:00</th>\n",
       "      <td>ftx</td>\n",
       "      <td>BTCUSDP</td>\n",
       "      <td>47495.138889</td>\n",
       "      <td>47495.434397</td>\n",
       "      <td>47513.476011</td>\n",
       "    </tr>\n",
       "    <tr>\n",
       "      <th>2022-03-29 23:57:00+00:00</th>\n",
       "      <td>ftx</td>\n",
       "      <td>BTCUSDP</td>\n",
       "      <td>47485.760173</td>\n",
       "      <td>47485.397799</td>\n",
       "      <td>47512.835992</td>\n",
       "    </tr>\n",
       "    <tr>\n",
       "      <th>2022-03-29 23:58:00+00:00</th>\n",
       "      <td>ftx</td>\n",
       "      <td>BTCUSDP</td>\n",
       "      <td>47471.786417</td>\n",
       "      <td>47472.841150</td>\n",
       "      <td>47508.432743</td>\n",
       "    </tr>\n",
       "    <tr>\n",
       "      <th>2022-03-29 23:59:00+00:00</th>\n",
       "      <td>ftx</td>\n",
       "      <td>BTCUSDP</td>\n",
       "      <td>47462.915767</td>\n",
       "      <td>47462.793750</td>\n",
       "      <td>47503.833389</td>\n",
       "    </tr>\n",
       "  </tbody>\n",
       "</table>\n",
       "<p>8843 rows × 5 columns</p>\n",
       "</div>"
      ],
      "text/plain": [
       "                          exchange   symbol  midprice_mean  traded_price_mean  \\\n",
       "timestamp                                                                       \n",
       "2022-03-23 20:37:00+00:00      ftx  BTCUSDP   42359.500000       42359.700000   \n",
       "2022-03-23 20:38:00+00:00      ftx  BTCUSDP   42352.869240       42351.710744   \n",
       "2022-03-23 20:39:00+00:00      ftx  BTCUSDP   42349.934738       42343.051282   \n",
       "2022-03-23 20:40:00+00:00      ftx  BTCUSDP   42375.531270       42372.927536   \n",
       "2022-03-23 20:41:00+00:00      ftx  BTCUSDP   42380.215871       42381.361702   \n",
       "...                            ...      ...            ...                ...   \n",
       "2022-03-29 23:55:00+00:00      ftx  BTCUSDP   47509.069554       47507.727811   \n",
       "2022-03-29 23:56:00+00:00      ftx  BTCUSDP   47495.138889       47495.434397   \n",
       "2022-03-29 23:57:00+00:00      ftx  BTCUSDP   47485.760173       47485.397799   \n",
       "2022-03-29 23:58:00+00:00      ftx  BTCUSDP   47471.786417       47472.841150   \n",
       "2022-03-29 23:59:00+00:00      ftx  BTCUSDP   47462.915767       47462.793750   \n",
       "\n",
       "                                Rolling  \n",
       "timestamp                                \n",
       "2022-03-23 20:37:00+00:00           NaN  \n",
       "2022-03-23 20:38:00+00:00           NaN  \n",
       "2022-03-23 20:39:00+00:00           NaN  \n",
       "2022-03-23 20:40:00+00:00           NaN  \n",
       "2022-03-23 20:41:00+00:00           NaN  \n",
       "...                                 ...  \n",
       "2022-03-29 23:55:00+00:00  47512.502548  \n",
       "2022-03-29 23:56:00+00:00  47513.476011  \n",
       "2022-03-29 23:57:00+00:00  47512.835992  \n",
       "2022-03-29 23:58:00+00:00  47508.432743  \n",
       "2022-03-29 23:59:00+00:00  47503.833389  \n",
       "\n",
       "[8843 rows x 5 columns]"
      ]
     },
     "execution_count": 72,
     "metadata": {},
     "output_type": "execute_result"
    }
   ],
   "source": [
    "\n",
    "high_freq"
   ]
  },
  {
   "cell_type": "code",
   "execution_count": 73,
   "metadata": {},
   "outputs": [
    {
     "data": {
      "text/plain": [
       "[<matplotlib.lines.Line2D at 0x7f5076975d30>]"
      ]
     },
     "execution_count": 73,
     "metadata": {},
     "output_type": "execute_result"
    },
    {
     "data": {
      "image/png": "[encoded data removed]",
      "text/plain": [
       "<Figure size 432x288 with 1 Axes>"
      ]
     },
     "metadata": {
      "needs_background": "light"
     },
     "output_type": "display_data"
    }
   ],
   "source": [
    "plt.plot(10000 * high_freq['midprice_mean'].pct_change().dropna())"
   ]
  },
  {
   "cell_type": "code",
   "execution_count": 74,
   "metadata": {},
   "outputs": [
    {
     "name": "stdout",
     "output_type": "stream",
     "text": [
      "                   Constant Mean - GJR-GARCH Model Results                    \n",
      "==============================================================================\n",
      "Dep. Variable:          midprice_mean   R-squared:                       0.000\n",
      "Mean Model:             Constant Mean   Adj. R-squared:                  0.000\n",
      "Vol Model:                  GJR-GARCH   Log-Likelihood:               -25532.9\n",
      "Distribution:                  Normal   AIC:                           51075.8\n",
      "Method:            Maximum Likelihood   BIC:                           51111.2\n",
      "                                        No. Observations:                 8842\n",
      "Date:                Wed, Mar 30 2022   Df Residuals:                     8841\n",
      "Time:                        20:38:40   Df Model:                            1\n",
      "                                 Mean Model                                \n",
      "===========================================================================\n",
      "                 coef    std err          t      P>|t|     95.0% Conf. Int.\n",
      "---------------------------------------------------------------------------\n",
      "mu             0.0598  4.185e-02      1.430      0.153 [-2.217e-02,  0.142]\n",
      "                             Volatility Model                             \n",
      "==========================================================================\n",
      "                 coef    std err          t      P>|t|    95.0% Conf. Int.\n",
      "--------------------------------------------------------------------------\n",
      "omega          1.3628      0.514      2.653  7.976e-03   [  0.356,  2.370]\n",
      "alpha[1]       0.2722  7.960e-02      3.420  6.258e-04   [  0.116,  0.428]\n",
      "gamma[1]      -0.0615  4.760e-02     -1.292      0.196 [ -0.155,3.178e-02]\n",
      "beta[1]        0.7322  6.351e-02     11.529  9.441e-31   [  0.608,  0.857]\n",
      "==========================================================================\n",
      "\n",
      "Covariance estimator: robust\n"
     ]
    }
   ],
   "source": [
    "returns = 10000 * high_freq['midprice_mean'].pct_change().dropna() # scaling for MLE Convergence \n",
    "am = arch_model(returns, p=1, o=1, q=1)\n",
    "res = am.fit(update_freq=5, disp=\"off\")\n",
    "print(res.summary())"
   ]
  },
  {
   "cell_type": "code",
   "execution_count": 75,
   "metadata": {},
   "outputs": [
    {
     "data": {
      "image/png": "[encoded data removed]",
      "text/plain": [
       "<Figure size 432x288 with 2 Axes>"
      ]
     },
     "metadata": {
      "needs_background": "light"
     },
     "output_type": "display_data"
    }
   ],
   "source": [
    "fig = res.plot(annualize=\"D\")"
   ]
  },
  {
   "cell_type": "code",
   "execution_count": null,
   "metadata": {},
   "outputs": [],
   "source": []
  },
  {
   "cell_type": "markdown",
   "metadata": {},
   "source": [
    "### Mean Models\n"
   ]
  },
  {
   "cell_type": "code",
   "execution_count": 76,
   "metadata": {},
   "outputs": [
    {
     "name": "stdout",
     "output_type": "stream",
     "text": [
      "                     AR - Constant Variance Model Results                     \n",
      "==============================================================================\n",
      "Dep. Variable:          midprice_mean   R-squared:                       1.000\n",
      "Mean Model:                        AR   Adj. R-squared:                  1.000\n",
      "Vol Model:          Constant Variance   Log-Likelihood:               -40525.8\n",
      "Distribution:                  Normal   AIC:                           81061.7\n",
      "Method:            Maximum Likelihood   BIC:                           81097.1\n",
      "                                        No. Observations:                 8831\n",
      "Date:                Wed, Mar 30 2022   Df Residuals:                     8827\n",
      "Time:                        20:38:49   Df Model:                            4\n",
      "                                    Mean Model                                   \n",
      "=================================================================================\n",
      "                     coef    std err          t      P>|t|       95.0% Conf. Int.\n",
      "---------------------------------------------------------------------------------\n",
      "Const              8.7943      7.137      1.232      0.218      [ -5.195, 22.783]\n",
      "midp...ean[1]      1.0815  2.772e-02     39.016      0.000      [  1.027,  1.136]\n",
      "midp...ean[3]     -0.0868  2.567e-02     -3.380  7.238e-04   [ -0.137,-3.646e-02]\n",
      "midp...ean[12] 5.1128e-03  6.707e-03      0.762      0.446 [-8.032e-03,1.826e-02]\n",
      "                              Volatility Model                              \n",
      "============================================================================\n",
      "                 coef    std err          t      P>|t|      95.0% Conf. Int.\n",
      "----------------------------------------------------------------------------\n",
      "sigma2       566.9136     35.722     15.870  1.019e-56 [4.969e+02,6.369e+02]\n",
      "============================================================================\n",
      "\n",
      "Covariance estimator: White's Heteroskedasticity Consistent Estimator\n"
     ]
    }
   ],
   "source": [
    "from arch.univariate import ARX\n",
    "\n",
    "ar = ARX( high_freq['midprice_mean'], lags=[1, 3, 12])\n",
    "print(ar.fit().summary())"
   ]
  },
  {
   "cell_type": "markdown",
   "metadata": {},
   "source": [
    "### Volatility Processes"
   ]
  },
  {
   "cell_type": "code",
   "execution_count": 77,
   "metadata": {},
   "outputs": [
    {
     "name": "stdout",
     "output_type": "stream",
     "text": [
      "                           AR - ARCH Model Results                            \n",
      "==============================================================================\n",
      "Dep. Variable:          midprice_mean   R-squared:                       1.000\n",
      "Mean Model:                        AR   Adj. R-squared:                  1.000\n",
      "Vol Model:                       ARCH   Log-Likelihood:               -38899.6\n",
      "Distribution:                  Normal   AIC:                           77819.2\n",
      "Method:            Maximum Likelihood   BIC:                           77890.1\n",
      "                                        No. Observations:                 8831\n",
      "Date:                Wed, Mar 30 2022   Df Residuals:                     8827\n",
      "Time:                        20:39:22   Df Model:                            4\n",
      "                                    Mean Model                                    \n",
      "==================================================================================\n",
      "                     coef    std err          t      P>|t|        95.0% Conf. Int.\n",
      "----------------------------------------------------------------------------------\n",
      "Const              5.0540      7.857      0.643      0.520       [-10.346, 20.454]\n",
      "midp...ean[1]      1.0211  4.151e-05  2.460e+04      0.000       [  1.021,  1.021]\n",
      "midp...ean[3]     -0.0290  5.222e-03     -5.558  2.725e-08 [-3.926e-02,-1.879e-02]\n",
      "midp...ean[12] 7.7702e-03  5.200e-03      1.494      0.135  [-2.422e-03,1.796e-02]\n",
      "                              Volatility Model                              \n",
      "============================================================================\n",
      "                 coef    std err          t      P>|t|      95.0% Conf. Int.\n",
      "----------------------------------------------------------------------------\n",
      "omega        150.8631     11.392     13.243  4.953e-40 [1.285e+02,1.732e+02]\n",
      "alpha[1]       0.3873  5.965e-02      6.492  8.471e-11     [  0.270,  0.504]\n",
      "alpha[2]       0.1702  2.846e-02      5.980  2.225e-09     [  0.114,  0.226]\n",
      "alpha[3]       0.1038  2.237e-02      4.641  3.460e-06   [5.999e-02,  0.148]\n",
      "alpha[4]       0.0687  1.648e-02      4.167  3.088e-05   [3.637e-02,  0.101]\n",
      "alpha[5]       0.0860  1.966e-02      4.374  1.220e-05   [4.747e-02,  0.125]\n",
      "============================================================================\n",
      "\n",
      "Covariance estimator: robust\n"
     ]
    }
   ],
   "source": [
    "from arch.univariate import ARCH, GARCH\n",
    "\n",
    "ar.volatility = ARCH(p=5)\n",
    "res = ar.fit(update_freq=0, disp=\"off\")\n",
    "print(res.summary())"
   ]
  },
  {
   "cell_type": "code",
   "execution_count": 78,
   "metadata": {},
   "outputs": [
    {
     "data": {
      "image/png": "[encoded data removed]",
      "text/plain": [
       "<Figure size 432x288 with 2 Axes>"
      ]
     },
     "metadata": {
      "needs_background": "light"
     },
     "output_type": "display_data"
    }
   ],
   "source": [
    "fig = res.plot()"
   ]
  },
  {
   "cell_type": "code",
   "execution_count": null,
   "metadata": {},
   "outputs": [],
   "source": []
  }
 ],
 "metadata": {
  "kernelspec": {
   "display_name": "Python 3",
   "language": "python",
   "name": "python3"
  },
  "language_info": {
   "codemirror_mode": {
    "name": "ipython",
    "version": 3
   },
   "file_extension": ".py",
   "mimetype": "text/x-python",
   "name": "python",
   "nbconvert_exporter": "python",
   "pygments_lexer": "ipython3",
   "version": "3.8.5"
  }
 },
 "nbformat": 4,
 "nbformat_minor": 4
}
